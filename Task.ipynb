{
  "nbformat": 4,
  "nbformat_minor": 0,
  "metadata": {
    "colab": {
      "provenance": [],
      "authorship_tag": "ABX9TyNTwO1tvVJPk+pgxbjwoFlo",
      "include_colab_link": true
    },
    "kernelspec": {
      "name": "python3",
      "display_name": "Python 3"
    },
    "language_info": {
      "name": "python"
    }
  },
  "cells": [
    {
      "cell_type": "markdown",
      "metadata": {
        "id": "view-in-github",
        "colab_type": "text"
      },
      "source": [
        "<a href=\"https://colab.research.google.com/github/Yang-HL1745/Yang-HL1745/blob/main/Task.ipynb\" target=\"_parent\"><img src=\"https://colab.research.google.com/assets/colab-badge.svg\" alt=\"Open In Colab\"/></a>"
      ]
    },
    {
      "cell_type": "code",
      "execution_count": null,
      "metadata": {
        "colab": {
          "base_uri": "https://localhost:8080/"
        },
        "id": "unOzicG9ZMJH",
        "outputId": "5df3aec2-bef1-4c7c-8a77-9b24044f67f0"
      },
      "outputs": [
        {
          "output_type": "stream",
          "name": "stdout",
          "text": [
            "Cloning into 'stable-diffusion'...\n",
            "remote: Enumerating objects: 340, done.\u001b[K\n",
            "remote: Counting objects: 100% (158/158), done.\u001b[K\n",
            "remote: Compressing objects: 100% (66/66), done.\u001b[K\n",
            "remote: Total 340 (delta 109), reused 92 (delta 92), pack-reused 182 (from 1)\u001b[K\n",
            "Receiving objects: 100% (340/340), 42.58 MiB | 20.95 MiB/s, done.\n",
            "Resolving deltas: 100% (131/131), done.\n"
          ]
        }
      ],
      "source": [
        "!git clone https://github.com/CompVis/stable-diffusion.git"
      ]
    },
    {
      "cell_type": "code",
      "source": [
        "# 安装Miniconda\n",
        "!wget -c https://repo.anaconda.com/miniconda/Miniconda3-latest-Linux-x86_64.sh\n",
        "!chmod +x Miniconda3-latest-Linux-x86_64.sh\n",
        "!bash ./Miniconda3-latest-Linux-x86_64.sh -b -f -p /usr/local\n",
        "\n",
        "# 更新Conda\n",
        "!conda update -n base -c defaults conda -y\n",
        "\n",
        "# 设置Conda路径\n",
        "import sys\n",
        "sys.path.append('/usr/local/lib/python3.8/site-packages/')\n",
        "\n",
        "# 创建Conda环境\n",
        "!conda env create -f environment.yaml\n",
        "\n",
        "# 激活Conda环境\n",
        "!eval \"$(conda shell.bash hook)\"; conda activate ldm\n"
      ],
      "metadata": {
        "colab": {
          "base_uri": "https://localhost:8080/"
        },
        "id": "7PSYnj8xc1j4",
        "outputId": "40a2bcf6-4737-4e10-dc9b-4e446265051b"
      },
      "execution_count": null,
      "outputs": [
        {
          "output_type": "stream",
          "name": "stdout",
          "text": [
            "--2024-10-12 06:38:46--  https://repo.anaconda.com/miniconda/Miniconda3-latest-Linux-x86_64.sh\n",
            "Resolving repo.anaconda.com (repo.anaconda.com)... 104.16.32.241, 104.16.191.158, 2606:4700::6810:20f1, ...\n",
            "Connecting to repo.anaconda.com (repo.anaconda.com)|104.16.32.241|:443... connected.\n",
            "HTTP request sent, awaiting response... 200 OK\n",
            "Length: 148981743 (142M) [application/octet-stream]\n",
            "Saving to: ‘Miniconda3-latest-Linux-x86_64.sh’\n",
            "\n",
            "Miniconda3-latest-L 100%[===================>] 142.08M   161MB/s    in 0.9s    \n",
            "\n",
            "2024-10-12 06:38:47 (161 MB/s) - ‘Miniconda3-latest-Linux-x86_64.sh’ saved [148981743/148981743]\n",
            "\n",
            "PREFIX=/usr/local\n",
            "Unpacking payload ...\n",
            "\n",
            "Installing base environment...\n",
            "\n",
            "Preparing transaction: ...working... done\n",
            "Executing transaction: ...working... done\n",
            "installation finished.\n",
            "WARNING:\n",
            "    You currently have a PYTHONPATH environment variable set. This may cause\n",
            "    unexpected behavior when running the Python interpreter in Miniconda3.\n",
            "    For best results, please verify that your PYTHONPATH only points to\n",
            "    directories of packages that are compatible with the Python interpreter\n",
            "    in Miniconda3: /usr/local\n",
            "Channels:\n",
            " - defaults\n",
            "Platform: linux-64\n",
            "Collecting package metadata (repodata.json): - \b\b\\ \b\b| \b\b/ \b\b- \b\b\\ \b\b| \b\b/ \b\b- \b\b\\ \b\b| \b\b/ \b\b- \b\bdone\n",
            "Solving environment: | \b\b/ \b\bdone\n",
            "\n",
            "## Package Plan ##\n",
            "\n",
            "  environment location: /usr/local\n",
            "\n",
            "  added / updated specs:\n",
            "    - conda\n",
            "\n",
            "\n",
            "The following packages will be downloaded:\n",
            "\n",
            "    package                    |            build\n",
            "    ---------------------------|-----------------\n",
            "    ca-certificates-2024.9.24  |       h06a4308_0         130 KB\n",
            "    certifi-2024.8.30          |  py312h06a4308_0         163 KB\n",
            "    conda-24.9.1               |  py312h06a4308_0         1.1 MB\n",
            "    openssl-3.0.15             |       h5eee18b_0         5.2 MB\n",
            "    ------------------------------------------------------------\n",
            "                                           Total:         6.6 MB\n",
            "\n",
            "The following packages will be UPDATED:\n",
            "\n",
            "  ca-certificates                       2024.7.2-h06a4308_0 --> 2024.9.24-h06a4308_0 \n",
            "  certifi                          2024.7.4-py312h06a4308_0 --> 2024.8.30-py312h06a4308_0 \n",
            "  conda                              24.7.1-py312h06a4308_0 --> 24.9.1-py312h06a4308_0 \n",
            "  openssl                                 3.0.14-h5eee18b_0 --> 3.0.15-h5eee18b_0 \n",
            "\n",
            "\n",
            "\n",
            "Downloading and Extracting Packages:\n",
            "openssl-3.0.15       | 5.2 MB    | :   0% 0/1 [00:00<?, ?it/s]\n",
            "conda-24.9.1         | 1.1 MB    | :   0% 0/1 [00:00<?, ?it/s]\u001b[A\n",
            "\n",
            "certifi-2024.8.30    | 163 KB    | :   0% 0/1 [00:00<?, ?it/s]\u001b[A\u001b[A\n",
            "\n",
            "\n",
            "ca-certificates-2024 | 130 KB    | :   0% 0/1 [00:00<?, ?it/s]\u001b[A\u001b[A\u001b[A\n",
            "\n",
            "openssl-3.0.15       | 5.2 MB    | :   1% 0.012029843321643568/1 [00:00<00:08,  8.52s/it]\n",
            "conda-24.9.1         | 1.1 MB    | :   5% 0.054986739114201356/1 [00:00<00:01,  1.86s/it]\u001b[A\n",
            "\n",
            "\n",
            "ca-certificates-2024 | 130 KB    | : 100% 1.0/1 [00:00<00:00,  5.93it/s]\u001b[A\u001b[A\u001b[A\n",
            "\n",
            "\n",
            "ca-certificates-2024 | 130 KB    | : 100% 1.0/1 [00:00<00:00,  5.93it/s]\u001b[A\u001b[A\u001b[A\n",
            "\n",
            "openssl-3.0.15       | 5.2 MB    | :  89% 0.8932158666320349/1 [00:00<00:00,  4.97it/s]  \n",
            "\n",
            "certifi-2024.8.30    | 163 KB    | : 100% 1.0/1 [00:00<00:00,  4.95it/s]\u001b[A\u001b[A\n",
            "conda-24.9.1         | 1.1 MB    | : 100% 1.0/1 [00:00<00:00,  1.89it/s]                 \u001b[A\n",
            "                                                                        \n",
            "                                                                        \u001b[A\n",
            "\n",
            "                                                                        \u001b[A\u001b[A\n",
            "\n",
            "\n",
            "                                                                        \u001b[A\u001b[A\u001b[A\n",
            "Preparing transaction: \\ \b\bdone\n",
            "Verifying transaction: / \b\b- \b\b\\ \b\bdone\n",
            "Executing transaction: / \b\bdone\n",
            "/usr/local/lib/python3.12/argparse.py:2005: FutureWarning: `remote_definition` is deprecated and will be removed in 25.9. Use `conda env create --file=URL` instead.\n",
            "  action(self, namespace, argument_values, option_string)\n",
            "\n",
            "EnvironmentFileNotFound: '/content/environment.yaml' file not found\n",
            "\n",
            "\n",
            "EnvironmentNameNotFound: Could not find conda environment: ldm\n",
            "You can list all discoverable environments with `conda info --envs`.\n",
            "\n",
            "\n"
          ]
        }
      ]
    },
    {
      "cell_type": "code",
      "source": [
        "# 首先挂载您的Google Drive，以便保存文件\n",
        "from google.colab import drive\n",
        "drive.mount('/content/drive')\n",
        "\n",
        "# 使用 !wget 下载 GitHub 上的权重文件\n",
        "!wget -P /content/drive/MyDrive/your_folder_name \"https://huggingface.co/CompVis/stable-diffusion-v-1-1-original/resolve/main/sd-v1-1.ckpt\"\n",
        "\n",
        "\n",
        "\n"
      ],
      "metadata": {
        "colab": {
          "base_uri": "https://localhost:8080/"
        },
        "id": "om-m1WEJgsdR",
        "outputId": "99f8521e-a5ac-4e73-a6f6-f80bf94489a7"
      },
      "execution_count": null,
      "outputs": [
        {
          "output_type": "stream",
          "name": "stdout",
          "text": [
            "Drive already mounted at /content/drive; to attempt to forcibly remount, call drive.mount(\"/content/drive\", force_remount=True).\n",
            "--2024-10-12 07:35:40--  https://huggingface.co/CompVis/stable-diffusion-v-1-1-original/resolve/main/sd-v1-1.ckpt\n",
            "Resolving huggingface.co (huggingface.co)... 108.138.246.79, 108.138.246.67, 108.138.246.71, ...\n",
            "Connecting to huggingface.co (huggingface.co)|108.138.246.79|:443... connected.\n",
            "HTTP request sent, awaiting response... 302 Found\n",
            "Location: https://cdn-lfs.hf.co/repos/bb/f8/bbf8615bc677e0da011740279e930a6405f70d016bfa386ce8cfbc850b64162c/86cd1d3ccb044d7ba8db743d717c9bac603c4043508ad2571383f954390f3cea?response-content-disposition=inline%3B+filename*%3DUTF-8%27%27sd-v1-1.ckpt%3B+filename%3D%22sd-v1-1.ckpt%22%3B&Expires=1728977740&Policy=eyJTdGF0ZW1lbnQiOlt7IkNvbmRpdGlvbiI6eyJEYXRlTGVzc1RoYW4iOnsiQVdTOkVwb2NoVGltZSI6MTcyODk3Nzc0MH19LCJSZXNvdXJjZSI6Imh0dHBzOi8vY2RuLWxmcy5oZi5jby9yZXBvcy9iYi9mOC9iYmY4NjE1YmM2NzdlMGRhMDExNzQwMjc5ZTkzMGE2NDA1ZjcwZDAxNmJmYTM4NmNlOGNmYmM4NTBiNjQxNjJjLzg2Y2QxZDNjY2IwNDRkN2JhOGRiNzQzZDcxN2M5YmFjNjAzYzQwNDM1MDhhZDI1NzEzODNmOTU0MzkwZjNjZWE%7EcmVzcG9uc2UtY29udGVudC1kaXNwb3NpdGlvbj0qIn1dfQ__&Signature=Yw4Ys31OarYXf7VRtCZh5JDTHtKR9nAr2-kxfSyrINOFMkDd%7EbPvhoYnRGVAATAPDdVWYmbfXmkyl1iLrlS02Th3svyN2ehHe3h1g4mRQyyVi6EgCDDzhkOYTxXJAjw1QLjZ5m5q0Um01fwwADft3iP44bH4vC%7EUQJIumbH7yzOJIz-WcKqLhSJK2q5QfFkkkF%7EfY1G7lfM25c%7EbSapyhpXojAfqZWnA5WNJDPNqJjDfqegGl%7EavHTlWwmw6--OJfQXrcuO%7EI%7EXCAYjk2p7KzgwrNOysNz9BK97%7EttvZiJn8a73vG71b%7EMWdeI3x40D-3quhjZHxJOYmQidta-rsCA__&Key-Pair-Id=K3RPWS32NSSJCE [following]\n",
            "--2024-10-12 07:35:41--  https://cdn-lfs.hf.co/repos/bb/f8/bbf8615bc677e0da011740279e930a6405f70d016bfa386ce8cfbc850b64162c/86cd1d3ccb044d7ba8db743d717c9bac603c4043508ad2571383f954390f3cea?response-content-disposition=inline%3B+filename*%3DUTF-8%27%27sd-v1-1.ckpt%3B+filename%3D%22sd-v1-1.ckpt%22%3B&Expires=1728977740&Policy=eyJTdGF0ZW1lbnQiOlt7IkNvbmRpdGlvbiI6eyJEYXRlTGVzc1RoYW4iOnsiQVdTOkVwb2NoVGltZSI6MTcyODk3Nzc0MH19LCJSZXNvdXJjZSI6Imh0dHBzOi8vY2RuLWxmcy5oZi5jby9yZXBvcy9iYi9mOC9iYmY4NjE1YmM2NzdlMGRhMDExNzQwMjc5ZTkzMGE2NDA1ZjcwZDAxNmJmYTM4NmNlOGNmYmM4NTBiNjQxNjJjLzg2Y2QxZDNjY2IwNDRkN2JhOGRiNzQzZDcxN2M5YmFjNjAzYzQwNDM1MDhhZDI1NzEzODNmOTU0MzkwZjNjZWE%7EcmVzcG9uc2UtY29udGVudC1kaXNwb3NpdGlvbj0qIn1dfQ__&Signature=Yw4Ys31OarYXf7VRtCZh5JDTHtKR9nAr2-kxfSyrINOFMkDd%7EbPvhoYnRGVAATAPDdVWYmbfXmkyl1iLrlS02Th3svyN2ehHe3h1g4mRQyyVi6EgCDDzhkOYTxXJAjw1QLjZ5m5q0Um01fwwADft3iP44bH4vC%7EUQJIumbH7yzOJIz-WcKqLhSJK2q5QfFkkkF%7EfY1G7lfM25c%7EbSapyhpXojAfqZWnA5WNJDPNqJjDfqegGl%7EavHTlWwmw6--OJfQXrcuO%7EI%7EXCAYjk2p7KzgwrNOysNz9BK97%7EttvZiJn8a73vG71b%7EMWdeI3x40D-3quhjZHxJOYmQidta-rsCA__&Key-Pair-Id=K3RPWS32NSSJCE\n",
            "Resolving cdn-lfs.hf.co (cdn-lfs.hf.co)... 18.154.144.8, 18.154.144.48, 18.154.144.40, ...\n",
            "Connecting to cdn-lfs.hf.co (cdn-lfs.hf.co)|18.154.144.8|:443... connected.\n",
            "HTTP request sent, awaiting response... 200 OK\n",
            "Length: 4265380512 (4.0G) [application/zip]\n",
            "Saving to: ‘/content/drive/MyDrive/your_folder_name/sd-v1-1.ckpt’\n",
            "\n",
            "sd-v1-1.ckpt        100%[===================>]   3.97G  47.2MB/s    in 3m 46s  \n",
            "\n",
            "2024-10-12 07:39:27 (18.0 MB/s) - ‘/content/drive/MyDrive/your_folder_name/sd-v1-1.ckpt’ saved [4265380512/4265380512]\n",
            "\n"
          ]
        }
      ]
    },
    {
      "cell_type": "code",
      "source": [
        "from google.colab import drive\n",
        "drive.mount('/content/drive')\n",
        "\n",
        "# 使用 !wget 下载 GitHub 上的权重文件\n",
        "!wget -P /content/drive/MyDrive/your_folder_name \"https://huggingface.co/CompVis/stable-diffusion-v-1-2-original/resolve/main/sd-v1-2.ckpt\""
      ],
      "metadata": {
        "colab": {
          "base_uri": "https://localhost:8080/"
        },
        "id": "PcBlp2nMiu7x",
        "outputId": "f7b69a6f-57d9-4cae-e542-22b6a5f79acb"
      },
      "execution_count": null,
      "outputs": [
        {
          "output_type": "stream",
          "name": "stdout",
          "text": [
            "Drive already mounted at /content/drive; to attempt to forcibly remount, call drive.mount(\"/content/drive\", force_remount=True).\n",
            "--2024-10-12 07:39:36--  https://huggingface.co/CompVis/stable-diffusion-v-1-2-original/resolve/main/sd-v1-2.ckpt\n",
            "Resolving huggingface.co (huggingface.co)... 18.164.174.23, 18.164.174.17, 18.164.174.55, ...\n",
            "Connecting to huggingface.co (huggingface.co)|18.164.174.23|:443... connected.\n",
            "HTTP request sent, awaiting response... 302 Found\n",
            "Location: https://cdn-lfs.hf.co/repos/b7/01/b701360203b639e3fc89fec846e7ed1026bc8ffa66b57efb8b8690091d9caa7f/3b87d30facd5bafca1cbed71cfb86648aad75d1c264663c0cc78c7aea8daec0d?response-content-disposition=inline%3B+filename*%3DUTF-8%27%27sd-v1-2.ckpt%3B+filename%3D%22sd-v1-2.ckpt%22%3B&Expires=1728977976&Policy=eyJTdGF0ZW1lbnQiOlt7IkNvbmRpdGlvbiI6eyJEYXRlTGVzc1RoYW4iOnsiQVdTOkVwb2NoVGltZSI6MTcyODk3Nzk3Nn19LCJSZXNvdXJjZSI6Imh0dHBzOi8vY2RuLWxmcy5oZi5jby9yZXBvcy9iNy8wMS9iNzAxMzYwMjAzYjYzOWUzZmM4OWZlYzg0NmU3ZWQxMDI2YmM4ZmZhNjZiNTdlZmI4Yjg2OTAwOTFkOWNhYTdmLzNiODdkMzBmYWNkNWJhZmNhMWNiZWQ3MWNmYjg2NjQ4YWFkNzVkMWMyNjQ2NjNjMGNjNzhjN2FlYThkYWVjMGQ%7EcmVzcG9uc2UtY29udGVudC1kaXNwb3NpdGlvbj0qIn1dfQ__&Signature=Qp4HVgXln3cGgP9BCTGQHAb25tIcF4HdneaOCQqAQJxS4vfZFWBCFQepAorpRWUAMSqfRS4oPorf9VB-UWemNmUBB4A%7ERZIfsI369kO%7ECnOMfAtJly7qH2i%7ER3yiMPmd8K7UdvEb%7Ec1GxrRg3jeG%7E786JW%7EYacH-9kqEP0dA9Bmq8VT1tcyh7%7ExH3VjL-vXIyW1mDKe5KjMg3TeSe4s-7wcfbS0rHvdSCUcFMN9opj0HrcuoPZdyIfpw%7EPbXpzsMo2dilNnppGxhKZvsMs88zgzacawy73EeDfEqRCblDzKJIP4Sn8vd95iYGB9GntgTf3O04y1D1XnudfAQZFGaSQ__&Key-Pair-Id=K3RPWS32NSSJCE [following]\n",
            "--2024-10-12 07:39:36--  https://cdn-lfs.hf.co/repos/b7/01/b701360203b639e3fc89fec846e7ed1026bc8ffa66b57efb8b8690091d9caa7f/3b87d30facd5bafca1cbed71cfb86648aad75d1c264663c0cc78c7aea8daec0d?response-content-disposition=inline%3B+filename*%3DUTF-8%27%27sd-v1-2.ckpt%3B+filename%3D%22sd-v1-2.ckpt%22%3B&Expires=1728977976&Policy=eyJTdGF0ZW1lbnQiOlt7IkNvbmRpdGlvbiI6eyJEYXRlTGVzc1RoYW4iOnsiQVdTOkVwb2NoVGltZSI6MTcyODk3Nzk3Nn19LCJSZXNvdXJjZSI6Imh0dHBzOi8vY2RuLWxmcy5oZi5jby9yZXBvcy9iNy8wMS9iNzAxMzYwMjAzYjYzOWUzZmM4OWZlYzg0NmU3ZWQxMDI2YmM4ZmZhNjZiNTdlZmI4Yjg2OTAwOTFkOWNhYTdmLzNiODdkMzBmYWNkNWJhZmNhMWNiZWQ3MWNmYjg2NjQ4YWFkNzVkMWMyNjQ2NjNjMGNjNzhjN2FlYThkYWVjMGQ%7EcmVzcG9uc2UtY29udGVudC1kaXNwb3NpdGlvbj0qIn1dfQ__&Signature=Qp4HVgXln3cGgP9BCTGQHAb25tIcF4HdneaOCQqAQJxS4vfZFWBCFQepAorpRWUAMSqfRS4oPorf9VB-UWemNmUBB4A%7ERZIfsI369kO%7ECnOMfAtJly7qH2i%7ER3yiMPmd8K7UdvEb%7Ec1GxrRg3jeG%7E786JW%7EYacH-9kqEP0dA9Bmq8VT1tcyh7%7ExH3VjL-vXIyW1mDKe5KjMg3TeSe4s-7wcfbS0rHvdSCUcFMN9opj0HrcuoPZdyIfpw%7EPbXpzsMo2dilNnppGxhKZvsMs88zgzacawy73EeDfEqRCblDzKJIP4Sn8vd95iYGB9GntgTf3O04y1D1XnudfAQZFGaSQ__&Key-Pair-Id=K3RPWS32NSSJCE\n",
            "Resolving cdn-lfs.hf.co (cdn-lfs.hf.co)... 3.168.132.51, 3.168.132.48, 3.168.132.25, ...\n",
            "Connecting to cdn-lfs.hf.co (cdn-lfs.hf.co)|3.168.132.51|:443... connected.\n",
            "HTTP request sent, awaiting response... 200 OK\n",
            "Length: 4265380512 (4.0G) [application/zip]\n",
            "Saving to: ‘/content/drive/MyDrive/your_folder_name/sd-v1-2.ckpt’\n",
            "\n",
            "sd-v1-2.ckpt        100%[===================>]   3.97G  51.6MB/s    in 2m 12s  \n",
            "\n",
            "2024-10-12 07:41:48 (30.9 MB/s) - ‘/content/drive/MyDrive/your_folder_name/sd-v1-2.ckpt’ saved [4265380512/4265380512]\n",
            "\n"
          ]
        }
      ]
    },
    {
      "cell_type": "code",
      "source": [
        "from google.colab import drive\n",
        "drive.mount('/content/drive')\n",
        "\n",
        "# 使用 !wget 下载 GitHub 上的权重文件\n",
        "!wget -P /content/drive/MyDrive/your_folder_name \"https://huggingface.co/CompVis/stable-diffusion-v-1-3-original/resolve/main/sd-v1-3.ckpt\""
      ],
      "metadata": {
        "colab": {
          "base_uri": "https://localhost:8080/"
        },
        "id": "GxHxlmGli4i2",
        "outputId": "4556ab6d-5986-4736-dab9-871678416844"
      },
      "execution_count": null,
      "outputs": [
        {
          "output_type": "stream",
          "name": "stdout",
          "text": [
            "Drive already mounted at /content/drive; to attempt to forcibly remount, call drive.mount(\"/content/drive\", force_remount=True).\n",
            "--2024-10-12 07:41:59--  https://huggingface.co/CompVis/stable-diffusion-v-1-3-original/resolve/main/sd-v1-3.ckpt\n",
            "Resolving huggingface.co (huggingface.co)... 18.164.174.118, 18.164.174.55, 18.164.174.17, ...\n",
            "Connecting to huggingface.co (huggingface.co)|18.164.174.118|:443... connected.\n",
            "HTTP request sent, awaiting response... 302 Found\n",
            "Location: https://cdn-lfs.hf.co/repos/c8/3b/c83b87df2a7b2646df253ec8a21eaef15d56786f7f0d7c25726081c6194bc78f/2cff93af4dcc07c3e03110205988ff98481e86539c51a8098d4f2236e41f7f2f?response-content-disposition=inline%3B+filename*%3DUTF-8%27%27sd-v1-3.ckpt%3B+filename%3D%22sd-v1-3.ckpt%22%3B&Expires=1728978119&Policy=eyJTdGF0ZW1lbnQiOlt7IkNvbmRpdGlvbiI6eyJEYXRlTGVzc1RoYW4iOnsiQVdTOkVwb2NoVGltZSI6MTcyODk3ODExOX19LCJSZXNvdXJjZSI6Imh0dHBzOi8vY2RuLWxmcy5oZi5jby9yZXBvcy9jOC8zYi9jODNiODdkZjJhN2IyNjQ2ZGYyNTNlYzhhMjFlYWVmMTVkNTY3ODZmN2YwZDdjMjU3MjYwODFjNjE5NGJjNzhmLzJjZmY5M2FmNGRjYzA3YzNlMDMxMTAyMDU5ODhmZjk4NDgxZTg2NTM5YzUxYTgwOThkNGYyMjM2ZTQxZjdmMmY%7EcmVzcG9uc2UtY29udGVudC1kaXNwb3NpdGlvbj0qIn1dfQ__&Signature=QiqE6Y99rQm6IUvKh3pxZRgRKxjd7RN8aM4tQGn5zIcW62lfpAPjf1ntPU5gBMZbLBPucNFwzYbULGNIfX1qsNzgy12V0ZIaRSGEyeq58hwMTOZ9pNMbVVu8vRRhXJXEYU1mW-b997TluVgyLTID1DTH7TbXs5iIKfRKF7wJ1TtrIPjJ3R6tjK%7EwRBI2-ZREozmETb1GJAi6oKG4pyzOs8MqHs8NdQ4fhgEVVtouainlgysMyWKhjJZbGmMilvB5ug82egGyMgf7lKRH2P5m8YXH8TRTbd3ZT-OFpdgvepUltF1JY9ixqVK7dn9j2LKNqEVPux62G8maUFi0qS6ovQ__&Key-Pair-Id=K3RPWS32NSSJCE [following]\n",
            "--2024-10-12 07:41:59--  https://cdn-lfs.hf.co/repos/c8/3b/c83b87df2a7b2646df253ec8a21eaef15d56786f7f0d7c25726081c6194bc78f/2cff93af4dcc07c3e03110205988ff98481e86539c51a8098d4f2236e41f7f2f?response-content-disposition=inline%3B+filename*%3DUTF-8%27%27sd-v1-3.ckpt%3B+filename%3D%22sd-v1-3.ckpt%22%3B&Expires=1728978119&Policy=eyJTdGF0ZW1lbnQiOlt7IkNvbmRpdGlvbiI6eyJEYXRlTGVzc1RoYW4iOnsiQVdTOkVwb2NoVGltZSI6MTcyODk3ODExOX19LCJSZXNvdXJjZSI6Imh0dHBzOi8vY2RuLWxmcy5oZi5jby9yZXBvcy9jOC8zYi9jODNiODdkZjJhN2IyNjQ2ZGYyNTNlYzhhMjFlYWVmMTVkNTY3ODZmN2YwZDdjMjU3MjYwODFjNjE5NGJjNzhmLzJjZmY5M2FmNGRjYzA3YzNlMDMxMTAyMDU5ODhmZjk4NDgxZTg2NTM5YzUxYTgwOThkNGYyMjM2ZTQxZjdmMmY%7EcmVzcG9uc2UtY29udGVudC1kaXNwb3NpdGlvbj0qIn1dfQ__&Signature=QiqE6Y99rQm6IUvKh3pxZRgRKxjd7RN8aM4tQGn5zIcW62lfpAPjf1ntPU5gBMZbLBPucNFwzYbULGNIfX1qsNzgy12V0ZIaRSGEyeq58hwMTOZ9pNMbVVu8vRRhXJXEYU1mW-b997TluVgyLTID1DTH7TbXs5iIKfRKF7wJ1TtrIPjJ3R6tjK%7EwRBI2-ZREozmETb1GJAi6oKG4pyzOs8MqHs8NdQ4fhgEVVtouainlgysMyWKhjJZbGmMilvB5ug82egGyMgf7lKRH2P5m8YXH8TRTbd3ZT-OFpdgvepUltF1JY9ixqVK7dn9j2LKNqEVPux62G8maUFi0qS6ovQ__&Key-Pair-Id=K3RPWS32NSSJCE\n",
            "Resolving cdn-lfs.hf.co (cdn-lfs.hf.co)... 3.168.132.25, 3.168.132.48, 3.168.132.99, ...\n",
            "Connecting to cdn-lfs.hf.co (cdn-lfs.hf.co)|3.168.132.25|:443... connected.\n",
            "HTTP request sent, awaiting response... 200 OK\n",
            "Length: 4265380512 (4.0G) [application/zip]\n",
            "Saving to: ‘/content/drive/MyDrive/your_folder_name/sd-v1-3.ckpt’\n",
            "\n",
            "sd-v1-3.ckpt        100%[===================>]   3.97G  39.5MB/s    in 2m 59s  \n",
            "\n",
            "2024-10-12 07:44:58 (22.7 MB/s) - ‘/content/drive/MyDrive/your_folder_name/sd-v1-3.ckpt’ saved [4265380512/4265380512]\n",
            "\n"
          ]
        }
      ]
    },
    {
      "cell_type": "code",
      "source": [
        "from google.colab import drive\n",
        "drive.mount('/content/drive')\n",
        "\n",
        "# 使用 !wget 下载 GitHub 上的权重文件\n",
        "!wget -P /content/drive/MyDrive/your_folder_name \"https://huggingface.co/CompVis/stable-diffusion-v-1-4-original/resolve/main/sd-v1-4.ckpt\""
      ],
      "metadata": {
        "colab": {
          "base_uri": "https://localhost:8080/"
        },
        "id": "yiw0Hktmi4xR",
        "outputId": "fbef9445-8f45-440a-a5b5-271907445d97"
      },
      "execution_count": null,
      "outputs": [
        {
          "output_type": "stream",
          "name": "stdout",
          "text": [
            "Drive already mounted at /content/drive; to attempt to forcibly remount, call drive.mount(\"/content/drive\", force_remount=True).\n",
            "--2024-10-12 07:45:22--  https://huggingface.co/CompVis/stable-diffusion-v-1-4-original/resolve/main/sd-v1-4.ckpt\n",
            "Resolving huggingface.co (huggingface.co)... 18.164.174.17, 18.164.174.23, 18.164.174.55, ...\n",
            "Connecting to huggingface.co (huggingface.co)|18.164.174.17|:443... connected.\n",
            "HTTP request sent, awaiting response... 302 Found\n",
            "Location: https://cdn-lfs.hf.co/repos/4c/37/4c372b4ebb57bbd02e68413d4951aa326d4b3cfb6e62db989e529c6d4b26fb21/fe4efff1e174c627256e44ec2991ba279b3816e364b49f9be2abc0b3ff3f8556?response-content-disposition=inline%3B+filename*%3DUTF-8%27%27sd-v1-4.ckpt%3B+filename%3D%22sd-v1-4.ckpt%22%3B&Expires=1728978322&Policy=eyJTdGF0ZW1lbnQiOlt7IkNvbmRpdGlvbiI6eyJEYXRlTGVzc1RoYW4iOnsiQVdTOkVwb2NoVGltZSI6MTcyODk3ODMyMn19LCJSZXNvdXJjZSI6Imh0dHBzOi8vY2RuLWxmcy5oZi5jby9yZXBvcy80Yy8zNy80YzM3MmI0ZWJiNTdiYmQwMmU2ODQxM2Q0OTUxYWEzMjZkNGIzY2ZiNmU2MmRiOTg5ZTUyOWM2ZDRiMjZmYjIxL2ZlNGVmZmYxZTE3NGM2MjcyNTZlNDRlYzI5OTFiYTI3OWIzODE2ZTM2NGI0OWY5YmUyYWJjMGIzZmYzZjg1NTY%7EcmVzcG9uc2UtY29udGVudC1kaXNwb3NpdGlvbj0qIn1dfQ__&Signature=jApYZUZsXPcLQniFhmBkqSu2wLYIQYFb8PamJVxVRCq9AoexEzWtmWJxh%7Eg9SVzb%7EgPVQBcr1WOs8mqlyXD%7E%7EBDrRPhqvotjnaCFtdNdC11FDxGQiSYpJyez87-axsJM7mZKJl2szWdog-5NTLy6T%7E6sn9CSEOUQPsaKtNAT6r-e5FaYaW6Kg3r-difvs6wr0fdC3XC9NVdnWfd6Gk6ph0cnT%7ERDHJ9Cl4reKFLwapbMrN1cIJ1MrcQ4YYdPkl8ho%7ENBrbB5Ch6Ux7dA6F1orGCnlMZEC9SfvK1jLGcKHQuyAnfaNNovi18Pv9Luh9aHCijstI4gI4TgZFfKncl1zg__&Key-Pair-Id=K3RPWS32NSSJCE [following]\n",
            "--2024-10-12 07:45:22--  https://cdn-lfs.hf.co/repos/4c/37/4c372b4ebb57bbd02e68413d4951aa326d4b3cfb6e62db989e529c6d4b26fb21/fe4efff1e174c627256e44ec2991ba279b3816e364b49f9be2abc0b3ff3f8556?response-content-disposition=inline%3B+filename*%3DUTF-8%27%27sd-v1-4.ckpt%3B+filename%3D%22sd-v1-4.ckpt%22%3B&Expires=1728978322&Policy=eyJTdGF0ZW1lbnQiOlt7IkNvbmRpdGlvbiI6eyJEYXRlTGVzc1RoYW4iOnsiQVdTOkVwb2NoVGltZSI6MTcyODk3ODMyMn19LCJSZXNvdXJjZSI6Imh0dHBzOi8vY2RuLWxmcy5oZi5jby9yZXBvcy80Yy8zNy80YzM3MmI0ZWJiNTdiYmQwMmU2ODQxM2Q0OTUxYWEzMjZkNGIzY2ZiNmU2MmRiOTg5ZTUyOWM2ZDRiMjZmYjIxL2ZlNGVmZmYxZTE3NGM2MjcyNTZlNDRlYzI5OTFiYTI3OWIzODE2ZTM2NGI0OWY5YmUyYWJjMGIzZmYzZjg1NTY%7EcmVzcG9uc2UtY29udGVudC1kaXNwb3NpdGlvbj0qIn1dfQ__&Signature=jApYZUZsXPcLQniFhmBkqSu2wLYIQYFb8PamJVxVRCq9AoexEzWtmWJxh%7Eg9SVzb%7EgPVQBcr1WOs8mqlyXD%7E%7EBDrRPhqvotjnaCFtdNdC11FDxGQiSYpJyez87-axsJM7mZKJl2szWdog-5NTLy6T%7E6sn9CSEOUQPsaKtNAT6r-e5FaYaW6Kg3r-difvs6wr0fdC3XC9NVdnWfd6Gk6ph0cnT%7ERDHJ9Cl4reKFLwapbMrN1cIJ1MrcQ4YYdPkl8ho%7ENBrbB5Ch6Ux7dA6F1orGCnlMZEC9SfvK1jLGcKHQuyAnfaNNovi18Pv9Luh9aHCijstI4gI4TgZFfKncl1zg__&Key-Pair-Id=K3RPWS32NSSJCE\n",
            "Resolving cdn-lfs.hf.co (cdn-lfs.hf.co)... 18.154.144.40, 18.154.144.38, 18.154.144.8, ...\n",
            "Connecting to cdn-lfs.hf.co (cdn-lfs.hf.co)|18.154.144.40|:443... connected.\n",
            "HTTP request sent, awaiting response... 200 OK\n",
            "Length: 4265380512 (4.0G) [binary/octet-stream]\n",
            "Saving to: ‘/content/drive/MyDrive/your_folder_name/sd-v1-4.ckpt’\n",
            "\n",
            "sd-v1-4.ckpt        100%[===================>]   3.97G  45.7MB/s    in 3m 24s  \n",
            "\n",
            "2024-10-12 07:48:46 (19.9 MB/s) - ‘/content/drive/MyDrive/your_folder_name/sd-v1-4.ckpt’ saved [4265380512/4265380512]\n",
            "\n"
          ]
        }
      ]
    },
    {
      "cell_type": "code",
      "source": [
        "# 安装必要的包\n",
        "!pip install diffusers transformers torch --quiet\n",
        "\n",
        "# 导入包\n",
        "import torch\n",
        "from torch import autocast\n",
        "from diffusers import StableDiffusionPipeline\n",
        "from google.colab import drive\n",
        "\n",
        "# 挂载Google Drive\n",
        "drive.mount('/content/drive')\n",
        "\n",
        "# 设置设备\n",
        "device = \"cuda\" if torch.cuda.is_available() else \"cpu\"\n",
        "\n",
        "# 加载模型权重\n",
        "model_path = \"/content/drive/MyDrive/your_folder_name\"\n",
        "pipeline = StableDiffusionPipeline.from_pretrained(model_path)\n",
        "pipeline = pipeline.to(device)\n",
        "\n",
        "# 生成图像\n",
        "prompt = \"A fantasy landscape with mountains and a river\"\n",
        "with autocast(device):\n",
        "    image = pipeline(prompt).images[0]\n",
        "\n",
        "# 显示图像\n",
        "image.show()\n",
        "\n",
        "# 保存图像\n",
        "output_path = \"/content/drive/MyDrive/generated_image.png\"\n",
        "image.save(output_path)\n",
        "print(f\"Image saved to {output_path}\")\n"
      ],
      "metadata": {
        "colab": {
          "base_uri": "https://localhost:8080/",
          "height": 395
        },
        "id": "fdiYECX8nFT4",
        "outputId": "70c7ca3d-03c2-41ff-b1ed-39eb80fa1431"
      },
      "execution_count": 22,
      "outputs": [
        {
          "output_type": "error",
          "ename": "ModuleNotFoundError",
          "evalue": "No module named 'diffusers'",
          "traceback": [
            "\u001b[0;31m---------------------------------------------------------------------------\u001b[0m",
            "\u001b[0;31mModuleNotFoundError\u001b[0m                       Traceback (most recent call last)",
            "\u001b[0;32m<ipython-input-22-e6d293b7b208>\u001b[0m in \u001b[0;36m<cell line: 7>\u001b[0;34m()\u001b[0m\n\u001b[1;32m      5\u001b[0m \u001b[0;32mimport\u001b[0m \u001b[0mtorch\u001b[0m\u001b[0;34m\u001b[0m\u001b[0;34m\u001b[0m\u001b[0m\n\u001b[1;32m      6\u001b[0m \u001b[0;32mfrom\u001b[0m \u001b[0mtorch\u001b[0m \u001b[0;32mimport\u001b[0m \u001b[0mautocast\u001b[0m\u001b[0;34m\u001b[0m\u001b[0;34m\u001b[0m\u001b[0m\n\u001b[0;32m----> 7\u001b[0;31m \u001b[0;32mfrom\u001b[0m \u001b[0mdiffusers\u001b[0m \u001b[0;32mimport\u001b[0m \u001b[0mStableDiffusionPipeline\u001b[0m\u001b[0;34m\u001b[0m\u001b[0;34m\u001b[0m\u001b[0m\n\u001b[0m\u001b[1;32m      8\u001b[0m \u001b[0;32mfrom\u001b[0m \u001b[0mgoogle\u001b[0m\u001b[0;34m.\u001b[0m\u001b[0mcolab\u001b[0m \u001b[0;32mimport\u001b[0m \u001b[0mdrive\u001b[0m\u001b[0;34m\u001b[0m\u001b[0;34m\u001b[0m\u001b[0m\n\u001b[1;32m      9\u001b[0m \u001b[0;34m\u001b[0m\u001b[0m\n",
            "\u001b[0;31mModuleNotFoundError\u001b[0m: No module named 'diffusers'",
            "",
            "\u001b[0;31m---------------------------------------------------------------------------\u001b[0;32m\nNOTE: If your import is failing due to a missing package, you can\nmanually install dependencies using either !pip or !apt.\n\nTo view examples of installing some common dependencies, click the\n\"Open Examples\" button below.\n\u001b[0;31m---------------------------------------------------------------------------\u001b[0m\n"
          ],
          "errorDetails": {
            "actions": [
              {
                "action": "open_url",
                "actionText": "Open Examples",
                "url": "/notebooks/snippets/importing_libraries.ipynb"
              }
            ]
          }
        }
      ]
    }
  ]
}